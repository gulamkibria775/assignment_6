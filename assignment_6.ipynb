{
 "cells": [
  {
   "cell_type": "markdown",
   "metadata": {},
   "source": [
    "                                           Ans to the Q No -1\n",
    "                                           \n",
    "   In Python strings, the backslash “ ” is a special character, also called the “escape” character. It is used in representing certain whitespace characters: “\\t” is a tab, “\\n” is a new line, and “\\r” is a carriage return. Finally, “ ” can be used to escape itself: “\\” is the literal backslash character                                        "
   ]
  },
  {
   "cell_type": "markdown",
   "metadata": {},
   "source": [
    "                                         Ans to the Q No -2\n",
    "                                         \n",
    "  \"\\t\" is a tab and \"\\n\" is a newline,                                        "
   ]
  },
  {
   "cell_type": "markdown",
   "metadata": {},
   "source": [
    "                                          Ans to the Q No -3\n",
    "                                          \n",
    "  Use the syntax \"\\\\\" within the string literal to represent a single backslash.\n",
    "  \n",
    "  write two: \\\\ "
   ]
  },
  {
   "cell_type": "markdown",
   "metadata": {},
   "source": [
    "                                     Ans to the Q No -4\n",
    "                                    \n",
    "   The single quote in Howl's is fine because I've used double quotes to mark the beginning and end of the string.                                  "
   ]
  },
  {
   "cell_type": "markdown",
   "metadata": {},
   "source": [
    "                                   Ans to the Q No -5\n",
    "                                   \n",
    "  Multiline strings allow you to use newlines in strings without the \\n escape character.                                 "
   ]
  },
  {
   "cell_type": "markdown",
   "metadata": {},
   "source": [
    "                                    Ans to the Q No -6\n",
    "                                    \n",
    "  The expressions output to the following:\n",
    "\n",
    "'e'\n",
    "\n",
    "'Hello'\n",
    "\n",
    "'Hello'\n",
    "\n",
    "'lo world!                                  "
   ]
  },
  {
   "cell_type": "markdown",
   "metadata": {},
   "source": [
    "                                  Ans to the Q No -7\n",
    "                                  \n",
    "  The expressions output to the following:\n",
    "\n",
    "'HELLO'\n",
    "\n",
    "True\n",
    "\n",
    "'hello'                                "
   ]
  },
  {
   "cell_type": "markdown",
   "metadata": {},
   "source": [
    "                                    Ans to the Q No -8\n",
    "                                    \n",
    "                                    \n",
    "The expressions output to the following:\n",
    "\n",
    "['Remember,', 'remember,', 'the', 'fifth', 'of', 'November.']\n",
    "\n",
    "'There-can-be-only-one"
   ]
  },
  {
   "cell_type": "markdown",
   "metadata": {},
   "source": [
    "                                   Ans to the Q No -9\n",
    "                                   \n",
    "                                   \n",
    "right-justifying--> rjust()\n",
    "\n",
    "left-justifying--> ljust()and \n",
    "\n",
    "centering --> center() "
   ]
  },
  {
   "cell_type": "markdown",
   "metadata": {},
   "source": [
    "                              Ans to the Q No -10\n",
    "                              \n",
    " left_white_space--> lstrip() and \n",
    " \n",
    " right_white_space--> rstrip()"
   ]
  },
  {
   "cell_type": "code",
   "execution_count": null,
   "metadata": {},
   "outputs": [],
   "source": []
  },
  {
   "cell_type": "code",
   "execution_count": null,
   "metadata": {},
   "outputs": [],
   "source": []
  }
 ],
 "metadata": {
  "kernelspec": {
   "display_name": "Python 3",
   "language": "python",
   "name": "python3"
  },
  "language_info": {
   "codemirror_mode": {
    "name": "ipython",
    "version": 3
   },
   "file_extension": ".py",
   "mimetype": "text/x-python",
   "name": "python",
   "nbconvert_exporter": "python",
   "pygments_lexer": "ipython3",
   "version": "3.8.5"
  }
 },
 "nbformat": 4,
 "nbformat_minor": 4
}
